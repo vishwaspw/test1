{
 "cells": [
  {
   "cell_type": "code",
   "execution_count": 1,
   "id": "e289faeb-e087-4fef-9e02-848402a44f69",
   "metadata": {},
   "outputs": [
    {
     "name": "stdin",
     "output_type": "stream",
     "text": [
      "Enter x: 10\n",
      "Enter y: 20\n"
     ]
    },
    {
     "name": "stdout",
     "output_type": "stream",
     "text": [
      "x: 20 y: 10\n"
     ]
    }
   ],
   "source": [
    "x=int(input(\"Enter x:\"))\n",
    "y=int(input(\"Enter y:\"))\n",
    "x,y=y,x\n",
    "print(\"x:\",x,\"y:\",y)"
   ]
  },
  {
   "cell_type": "code",
   "execution_count": 2,
   "id": "b1b6cc83-862f-4f21-86bd-400a0847b5af",
   "metadata": {},
   "outputs": [
    {
     "name": "stdin",
     "output_type": "stream",
     "text": [
      "Enter Length :  10\n",
      "Enter width :  20\n"
     ]
    },
    {
     "name": "stdout",
     "output_type": "stream",
     "text": [
      "Area of rectangle is :  200\n"
     ]
    }
   ],
   "source": [
    "l=int(input(\"Enter Length : \"))\n",
    "w=int(input(\"Enter width : \"))\n",
    "print(\"Area of rectangle is : \",l*w)"
   ]
  },
  {
   "cell_type": "code",
   "execution_count": 3,
   "id": "2d3493c7-4079-4020-a3ea-447ad45d9ebd",
   "metadata": {},
   "outputs": [
    {
     "name": "stdin",
     "output_type": "stream",
     "text": [
      "Enter the temperature in celsius :  20\n"
     ]
    },
    {
     "name": "stdout",
     "output_type": "stream",
     "text": [
      "Temperature in fahrenheit is :  68.0\n"
     ]
    }
   ],
   "source": [
    "c=float(input(\"Enter the temperature in celsius : \"))\n",
    "f=((9/5)*c)+32\n",
    "print(\"Temperature in fahrenheit is : \",f)"
   ]
  },
  {
   "cell_type": "code",
   "execution_count": 4,
   "id": "fe8cdf14-6913-4358-86c4-816dbeb09c8f",
   "metadata": {},
   "outputs": [
    {
     "name": "stdin",
     "output_type": "stream",
     "text": [
      "Enter the string :  harshith\n"
     ]
    },
    {
     "name": "stdout",
     "output_type": "stream",
     "text": [
      "Length of the string is :  8\n"
     ]
    }
   ],
   "source": [
    "a=input(\"Enter the string : \")\n",
    "print(\"Length of the string is : \",len(a))"
   ]
  },
  {
   "cell_type": "code",
   "execution_count": 5,
   "id": "301087eb-5d1f-4b97-835e-10a583761cac",
   "metadata": {},
   "outputs": [
    {
     "name": "stdin",
     "output_type": "stream",
     "text": [
      "Enter the sentence :  harshith\n"
     ]
    },
    {
     "name": "stdout",
     "output_type": "stream",
     "text": [
      "The number of vowels in the sentence is :  2\n"
     ]
    }
   ],
   "source": [
    "a=input(\"Enter the sentence : \")\n",
    "b=\"aeiou\"\n",
    "#since we took b as aeiou so if a has upper character so it must be converted to lower character to compare with b  \n",
    "a=a.lower()\n",
    "sum=0\n",
    "for i in a:\n",
    "    if i in b:\n",
    "        sum+=1\n",
    "print(\"The number of vowels in the sentence is : \",sum)"
   ]
  },
  {
   "cell_type": "code",
   "execution_count": 6,
   "id": "3df1c54c-e127-4aff-995b-3ea15cfea725",
   "metadata": {},
   "outputs": [
    {
     "name": "stdin",
     "output_type": "stream",
     "text": [
      "Enter the string :  harshith\n"
     ]
    },
    {
     "name": "stdout",
     "output_type": "stream",
     "text": [
      "Reversed string is :  htihsrah\n"
     ]
    }
   ],
   "source": [
    "a=input(\"Enter the string : \")\n",
    "b=a[::-1]\n",
    "print(\"Reversed string is : \",b)"
   ]
  },
  {
   "cell_type": "code",
   "execution_count": 7,
   "id": "96eae466-4ef4-47e7-95a8-3c0de30e5555",
   "metadata": {},
   "outputs": [
    {
     "name": "stdin",
     "output_type": "stream",
     "text": [
      "Enter the string  harshith\n"
     ]
    },
    {
     "name": "stdout",
     "output_type": "stream",
     "text": [
      "String is not palindrome\n"
     ]
    }
   ],
   "source": [
    "a=input(\"Enter the string \")\n",
    "b=a[::-1]\n",
    "if(a==b):\n",
    "    print(\"String is palindrome\")\n",
    "else:\n",
    "    print(\"String is not palindrome\")"
   ]
  },
  {
   "cell_type": "code",
   "execution_count": 11,
   "id": "5db6b306-edf5-4599-8886-d78cd039851b",
   "metadata": {},
   "outputs": [
    {
     "name": "stdin",
     "output_type": "stream",
     "text": [
      "Enter the string :      hello world   \n"
     ]
    },
    {
     "name": "stdout",
     "output_type": "stream",
     "text": [
      "helloworld\n"
     ]
    }
   ],
   "source": [
    "a=input(\"Enter the string :  \")\n",
    "b=a.replace(\" \",\"\")\n",
    "print(b)"
   ]
  }
 ],
 "metadata": {
  "kernelspec": {
   "display_name": "Python 3 (ipykernel)",
   "language": "python",
   "name": "python3"
  },
  "language_info": {
   "codemirror_mode": {
    "name": "ipython",
    "version": 3
   },
   "file_extension": ".py",
   "mimetype": "text/x-python",
   "name": "python",
   "nbconvert_exporter": "python",
   "pygments_lexer": "ipython3",
   "version": "3.10.8"
  }
 },
 "nbformat": 4,
 "nbformat_minor": 5
}
